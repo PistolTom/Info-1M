{
 "cells": [
  {
   "cell_type": "markdown",
   "metadata": {},
   "source": [
    "![Exercices obligatoires](images/obligatoire.jpg)\n",
    "---\n"
   ]
  },
  {
   "cell_type": "markdown",
   "metadata": {},
   "source": [
    "---\n",
    "## Exercice 1 : Surface d'une maison\n",
    "Créez une fonction, `aire_rectangle`, qui à partir d'une longueur et d'une largeur données en argument, renvoie l'aire du carrée de côté longueur (en cm)."
   ]
  },
  {
   "cell_type": "code",
   "execution_count": null,
   "metadata": {},
   "outputs": [],
   "source": [
    "# Définition de la fonction\n",
    "def aire_rectangle(longueur, largeur):\n",
    "    aire = longueur* largeur\n",
    "    return aire\n"
   ]
  },
  {
   "cell_type": "markdown",
   "metadata": {},
   "source": [
    "En utilisant la fonction précédente, calculer la surface totale occupée par la maison dont les plans sont donnés ci-dessous :\n",
    "<img style=\"float : center\" width=500 src=\"images/planMaison.png\">"
   ]
  },
  {
   "cell_type": "code",
   "execution_count": null,
   "metadata": {},
   "outputs": [],
   "source": [
    "# Votre programme\n",
    "aire_salon = aire_rectangle(6,8)\n",
    "aire_cuisine = aire_rectangle(4,3)\n",
    "aire_chambre = aire_rectangle(7,3)\n",
    "print(\"La surface totale de la maison est de :\",aire_chambre+aire_cuisine+aire_salon,\"m2\")"
   ]
  },
  {
   "cell_type": "markdown",
   "metadata": {},
   "source": [
    "---\n",
    "## Exercice 2 : Calcul de vitesse moyenne\n",
    "Vous assistez à une course cycliste qui monte et descend une colline. Quatre variables sont définies pour vous :\n",
    "- `distanceMontee` et `distanceDescente` donnant la distance (en km) des deux parties de la course ;\n",
    "- `tempsMonte` et `tempsDescente` donnant le temps (en minutes) pris pour compléter chaque partie de la course. \n",
    "\n",
    "Créez une fonction qui à partir des 4 variables précédentes retourne la vitesse moyenne (en km/min) pour toute la course."
   ]
  },
  {
   "cell_type": "code",
   "execution_count": null,
   "metadata": {},
   "outputs": [],
   "source": [
    "# définition de la fonction\n",
    "def calcul_vitesse(distMontee, distDescente, tpsMontee, tpsDescente):\n",
    "    \"\"\" Fonction qui calcul la vitesse moyenne d'une course cycliste à partir de 4 paramètres :\n",
    "    distMontee   : la distance en montée (int)\n",
    "    distDescente : la distance en descente (int)\n",
    "    tpsMontee    : le temps pris pour la montée (int)\n",
    "    tpsDescente  : le temps pris pour la descente (int)\n",
    "    Valeur de retour : la vitesse moyenne (float)\n",
    "    \"\"\"\n",
    "    \n",
    "    dist_totale = distMontee + distDescente\n",
    "    tps_total = (tpsMontee + tpsDescente)/60\n",
    "\n",
    "    vit_moyenne = dist_totale / tps_total\n",
    "    return vit_moyenne\n",
    "\n",
    "\n",
    "# Programme principal\n",
    "distanceMontee = 10\n",
    "distanceDescente = 30\n",
    "tempsMonte = 53\n",
    "tempsDescente = 50\n",
    "vitesse = calcul_vitesse(distanceMontee, distanceDescente, tempsMonte, tempsDescente)\n",
    "print(\"La vitesse moyenne est de\",vitesse,\"km/h\")\n"
   ]
  },
  {
   "cell_type": "markdown",
   "metadata": {},
   "source": [
    "*Aide : vous pourrez avoir besoin de variables supplémentaires calculant le temps total et la distance totale parcourus par exemple...*"
   ]
  },
  {
   "cell_type": "markdown",
   "metadata": {},
   "source": [
    "---\n",
    "## Exercice 3 : Convertisseur de minutes\n",
    "Créez une fonction `convertMinute` qui convertit un nombre de minutes donné en argument, en un nombre de jours, d'heures et de minutes.\n",
    "\n",
    "+ Exemple : `convertMinute(122222)` doit afficher 84 jours, 21 heures et 2 minutes."
   ]
  },
  {
   "cell_type": "code",
   "execution_count": null,
   "metadata": {},
   "outputs": [],
   "source": [
    "# définition de la fonction\n",
    "def convertMinute(nbMinute):\n",
    "    nb_heures = nbMinute // 60\n",
    "    reste_minute = nbMinute % 60\n",
    "    nb_jour = nb_heures // 24\n",
    "    reste_heure = nb_heures % 24\n",
    "    print(nb_minutes,\"minutes, équivaut à:\")\n",
    "    print(nb_jour,\"jours\",reste_heure,\"heures et\",reste_minute,\"minutes.\")\n",
    "\n",
    "\n",
    "# Programme principal\n",
    "nb_minutes = 122222            # nombre de minutes à convertir\n",
    "convertMinute(nb_minutes)"
   ]
  },
  {
   "cell_type": "code",
   "execution_count": null,
   "metadata": {},
   "outputs": [],
   "source": []
  },
  {
   "cell_type": "markdown",
   "metadata": {},
   "source": [
    "---\n",
    "## Exercice 4\n",
    "\n",
    "Ecrire une fonction qui retourne la valeur de la fonction mathématique $f(x)= 27x^{3} -27x^{2} -18x +8$\n",
    "\n",
    "Exemple :\n",
    "```python\n",
    "print(f(0), f(1), f(0.5), f(0.25), f(0.375))\n",
    ">>> 8.0 -10.0 -4.375 2.234375 -1.123046875\n",
    "```"
   ]
  },
  {
   "cell_type": "code",
   "execution_count": null,
   "metadata": {},
   "outputs": [],
   "source": [
    "# Définition de fonctions\n",
    "def f(x):\n",
    "    \"\"\"Fonction qui calcule la valeur de f(x)=27^3-27x^2-18x+8\n",
    "    pour un x donné\"\"\"\n",
    "    res = 27*x**3 - 27*x**2 - 18*x + 8\n",
    "    return res\n",
    "\n",
    "# Programme principal\n",
    "x_val = int(input(\"Donner une valeur à x : \"))\n",
    "print(\"f({})={}\".format(x_val,f(x_val)))"
   ]
  },
  {
   "cell_type": "markdown",
   "metadata": {},
   "source": [
    "---\n",
    "## Exercice 5\n",
    "\n",
    "Ecrire une fonction qui retourne une grille de numéros du jeu Euro Millions.\n",
    "On utilisera la fonction `sample()` du module `random`.\n",
    "![euromillion](images/euromillions.png)  \n",
    "\n",
    "Pour en connaitre plus sur la fonction `sample()`, faites afficher son _DocString_ !"
   ]
  },
  {
   "cell_type": "code",
   "execution_count": null,
   "metadata": {},
   "outputs": [],
   "source": [
    "from random import sample\n",
    "\n",
    "#help(sample)\n",
    "\n",
    "#definition de fonction\n",
    "def numeroGagnant():\n",
    "    \n",
    "    numPossible    = list(range(1,51))\n",
    "    etoilePossible = list(range(1,12))\n",
    "\n",
    "    numTire = sample(numPossible,5)\n",
    "    etoileTire = sample(etoilePossible,2)\n",
    "\n",
    "    return (numTire, etoileTire)\n",
    "\n",
    "# Programme principal\n",
    "(num, etoile) = numeroGagnant()\n",
    "print(\"La grille gagnante est :\\n\\tNumero : {}\\n\\tEtoiles: {}\".format(num,etoile))\n",
    "\n"
   ]
  },
  {
   "cell_type": "markdown",
   "metadata": {},
   "source": [
    "---\n",
    "## Exercice 6 : Aider Robert à construire un château de cartes\n",
    "_Source : Hatier_\n",
    "\n",
    "<img style=\"float :right;\" src=\"images/chateauCarte.png\">\n",
    "\n",
    "\n",
    "\n",
    "Robert s'ennuie... Pour passer le temps, il décide de construire des châteaux de cartes.  \n",
    "Il lui faut 15 cartes pour construire un château de 3 étages.  \n",
    "Il lui faut 26 cartes pour construire un château de 4 étages.  \n",
    "Il lui faut 0 carte pour construire un château de 0 étage.\n",
    "\n",
    "#### 1. Combien de cartes lui faut-il pour construire un château de 1 étage ? de 2 étages ? de 6 étages ?  \n",
    "Voici la spécification et l'algorithme d'une fonction qui permet de calculer le nombre de cartes nécessaires à la construction d'un château de n étages :  \n",
    "\n",
    "```script\n",
    "Fonction : nombre_de_cartes\n",
    "Paramètre : n entier positif\n",
    "Résultat : le nombre de cartes nécessaires à la construction d'un château de 'n' étages\n",
    "\n",
    "Début\n",
    "    Somme prend la valeur 0\n",
    "    pour etage allant de 1 à n :\n",
    "        somme prend la valeur somme + etage * 3 - 1\n",
    "    renvoyer somme\n",
    "Fin de la fonction\n",
    "```"
   ]
  },
  {
   "cell_type": "raw",
   "metadata": {},
   "source": [
    "Nombre de cartes pour 1 étage : 2 cartes\n",
    "Nombre de cartes pour 2 étages : 7 cartes\n",
    "Nombre de cartes pour 6 étages : 57 cartes"
   ]
  },
  {
   "cell_type": "markdown",
   "metadata": {},
   "source": [
    "#### 2. Quel est le type de la valeur de retour de cette fonction ?"
   ]
  },
  {
   "cell_type": "raw",
   "metadata": {},
   "source": [
    "Le type : entier"
   ]
  },
  {
   "cell_type": "markdown",
   "metadata": {},
   "source": [
    "#### 3. Proposer au moins deux tests pour valider cette fonction ?"
   ]
  },
  {
   "cell_type": "code",
   "execution_count": null,
   "metadata": {},
   "outputs": [],
   "source": [
    "assert nombre_de_cartes(3)==15\n",
    "assert nombre_de_cartes(4)==26"
   ]
  },
  {
   "cell_type": "markdown",
   "metadata": {},
   "source": [
    "#### 4. Écrire le code de cette fonction en Python"
   ]
  },
  {
   "cell_type": "code",
   "execution_count": null,
   "metadata": {},
   "outputs": [],
   "source": [
    "def nombre_de_cartes(n):\n",
    "    somme=0\n",
    "    for etage in range(1,n+1):\n",
    "        somme = somme + etage * 3 - 1\n",
    "    return somme\n",
    "\n",
    "assert nombre_de_cartes(3)==15   # on peut aussi écrire if (nombre_de_cartes(3)!=15): ... print(\"Erreur\")\n",
    "assert nombre_de_cartes(4)==26"
   ]
  },
  {
   "cell_type": "markdown",
   "metadata": {},
   "source": [
    "Robert se demande quel château il va pouvoir construire avec les cartes à sa disposition. \n",
    "S'il dispose de 23 cartes, il pourra construire un château de 3 étages au maximum : il a assez de cartes pour construire un château de 3 étages, mais pas assez pour un château de 4 étages.  \n",
    "S'il dispose de 10 cartes, il pourra construire un château de 2 étages au maximum.  \n",
    "#### 5. Quel est le nombre d'étages du plus haut château que Robert pourra construire s'il dispose de 52 cartes ?"
   ]
  },
  {
   "cell_type": "code",
   "execution_count": null,
   "metadata": {},
   "outputs": [],
   "source": [
    "print(\"Pour 6 étages, il faut : \",nombre_de_cartes(6),\"cartes\")\n",
    "# Il pourra donc construire un château de 5 étages avec 52 cartes"
   ]
  },
  {
   "cell_type": "markdown",
   "metadata": {},
   "source": [
    "On veut écrire une fonction qui prendra en paramètre le nombre maximum de cartes que Robert veut utiliser, et qui déterminera le nombre d'étages du plus haut château qu'il peut construire.  \n",
    "#### 6. Donner la spécification de cette fonction (nom, paramètre, résultat)"
   ]
  },
  {
   "cell_type": "code",
   "execution_count": null,
   "metadata": {},
   "outputs": [],
   "source": [
    "#Fonction : nombre_etage\n",
    "#Paramètre : d entier positif\n",
    "#Résultat : le nombre d'étage que l'on peut construire avec d cartes"
   ]
  },
  {
   "cell_type": "markdown",
   "metadata": {},
   "source": [
    "#### 7. Proposer au moins 2 tests pour valider cette fonction"
   ]
  },
  {
   "cell_type": "code",
   "execution_count": null,
   "metadata": {},
   "outputs": [],
   "source": [
    "assert nombre_etage(26)==4\n",
    "assert nombre_etage(25)==3    # permet de tester la limite pour 3 étages"
   ]
  },
  {
   "cell_type": "markdown",
   "metadata": {},
   "source": [
    "#### 8. Donner le code de cette fonction en Python"
   ]
  },
  {
   "cell_type": "code",
   "execution_count": null,
   "metadata": {},
   "outputs": [],
   "source": [
    "def nombre_etage(d):\n",
    "    nb_cartes_restantes = d\n",
    "    etage = 0\n",
    "    while nb_cartes_restantes >= 0: # tant qu'il y a des cartes restantes on essaie de faire un autre étage\n",
    "        etage = etage + 1\n",
    "        nb_cartes_restantes = nb_cartes_restantes - (etage * 3 - 1)\n",
    "        #print(nb_cartes_restantes)    # pour le DEBUG\n",
    "        \n",
    "    return etage-1    # on enlève le dernier incrément\n",
    "\n",
    "assert nombre_etage(26)==4\n",
    "assert nombre_etage(25)==3  "
   ]
  },
  {
   "cell_type": "code",
   "execution_count": null,
   "metadata": {},
   "outputs": [],
   "source": []
  }
 ],
 "metadata": {
  "kernelspec": {
   "display_name": "Python 3",
   "language": "python",
   "name": "python3"
  },
  "language_info": {
   "codemirror_mode": {
    "name": "ipython",
    "version": 3
   },
   "file_extension": ".py",
   "mimetype": "text/x-python",
   "name": "python",
   "nbconvert_exporter": "python",
   "pygments_lexer": "ipython3",
   "version": "3.7.0"
  }
 },
 "nbformat": 4,
 "nbformat_minor": 2
}
