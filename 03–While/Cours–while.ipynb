{
 "cells": [
  {
   "cell_type": "markdown",
   "metadata": {},
   "source": [
    "# Les boucles, les itérations\n",
    "*Ce document est publié sous licence libre Creative Commons CC-BY-SA.*\n",
    "\n",
    "---\n",
    "Un des intérêts importants de l'informatique est de pouvoir automatiser un certains nombres de tâches et répéter plusieurs fois les mêmes instructions. Cette leçon va nous permettre d'introduire **les boucles** (aussi appelées **itérations**) qui permette de faire faire à un ordinateur des choses répétitives.\n",
    "Dans ce cours, nous allons nous intéresser à l'instruction `while` qui permet générer des boucles."
   ]
  },
  {
   "cell_type": "markdown",
   "metadata": {},
   "source": [
    "## La boucle `while`\n",
    "L'instruction `while` permet de répéter une section de code **tant qu'une condition est vérifiée** (c'est à dire que la condition retourne la valeur `True`).\n",
    "Par exemple, si l'on veut faire un compte à rebours:"
   ]
  },
  {
   "cell_type": "code",
   "execution_count": null,
   "metadata": {},
   "outputs": [],
   "source": [
    "tempsRestant = 5\n",
    "while tempsRestant > 0 :           # condition\n",
    "    print(tempsRestant)            # instruction à répéter\n",
    "    tempsRestant = tempsRestant-1  # instruction à répéter\n",
    "print(\"Décollage de la fusée ! \")  # instruction hors de la boucle et donc pas répétée"
   ]
  },
  {
   "cell_type": "markdown",
   "metadata": {},
   "source": [
    "Plusieurs choses sont à noter dans le code précédent :\n",
    "+ À la deuxième ligne `tempsRestant > 0` est une condition qui retourne `True` si tempsRestant est strictement supérieur à 0 sinon elle retourne `False` (c'est une expression *booléenne*, voir le cours sur les variables pour plus de précisions).\n",
    "+ À la fin de la deuxième ligne, le caractère **`:`** est obligatoire car il annonce le début d'une section de code.\n",
    "+ La section de code à répéter est éloignée du bord gauche de la fenêtre de **4 espaces**, on dit qu'elle est **indentée**. Cela est obligatoire après une instruction `while` et permet d'identifier clairement la section.\n",
    "\n",
    "Finalement la structure d'une boucle `while`est la suivante :\n",
    "```python\n",
    "while condition :\n",
    "    instruction1 à répéter\n",
    "    instruction2 à répérer\n",
    "    ...\n",
    "instruction3\n",
    "...\n",
    "```\n",
    "----\n",
    "<div class=\"alert alert-success\">\n",
    "<img style=\"float :left;\" src=\"images/laptop50b.png\">\n",
    "    \n",
    ">*__À vous de jouer__*  \n",
    "*Modifiez le code de la cellule suivante pour que le compte à rebours :*\n",
    "- *commence le décompte à 10;*\n",
    "- *affiche entre chaque nombre la chaîne de caractères \"attention\".*\n",
    "    - *indice : la commande print(\"Bonjour\") permet d'afficher le mot Bonjour)*\n",
    " </div>\n"
   ]
  },
  {
   "cell_type": "code",
   "execution_count": null,
   "metadata": {},
   "outputs": [],
   "source": [
    "tempsRestant = 5\n",
    "while tempsRestant > 0 :           # condition\n",
    "    print(tempsRestant)            # instruction à répéter\n",
    "    tempsRestant = tempsRestant-1  # instruction à répéter\n",
    "print(\"Décollage de la fusée ! \")  # instruction hors de la boucle et donc pas répétée"
   ]
  },
  {
   "cell_type": "markdown",
   "metadata": {},
   "source": [
    "---"
   ]
  },
  {
   "cell_type": "markdown",
   "metadata": {},
   "source": [
    "## Opérateurs de comparaison\n",
    "Les conditions sont définies la plupart du temps à l'aide des *opérateurs de comparaisons*. Voici les principaux :\n",
    "  \n",
    "| Symbole | Tâche effectuée |\n",
    "|----|---|\n",
    "| `==` | True, si les 2 expressions sont égales |\n",
    "| `!=`  | True, si les 2 expressions sont différentes |\n",
    "| `<` | inférieur à |\n",
    "| `>` | supérieur à |\n",
    "| `<=`  | inférieur ou égal à |\n",
    "| `>=`  | supérieur ou égal à |\n",
    "\n",
    "> **À vous de jouer** : *Exécutez les cellules suivantes et analysez le résultat de chacune*"
   ]
  },
  {
   "cell_type": "code",
   "execution_count": null,
   "metadata": {},
   "outputs": [],
   "source": [
    "5==5"
   ]
  },
  {
   "cell_type": "code",
   "execution_count": null,
   "metadata": {},
   "outputs": [],
   "source": [
    "5!=5"
   ]
  },
  {
   "cell_type": "code",
   "execution_count": null,
   "metadata": {},
   "outputs": [],
   "source": [
    "4<1"
   ]
  },
  {
   "cell_type": "code",
   "execution_count": null,
   "metadata": {},
   "outputs": [],
   "source": [
    "4>1"
   ]
  },
  {
   "cell_type": "markdown",
   "metadata": {},
   "source": [
    "## Boucle infinie\n",
    "Mais que se passe-t-il si la condition spécifiée après l'instruction `while` n'est jamais `False` ?\n",
    "\n",
    "Et bien... l'ordinateur va exécuter la section de code à répéter à l'**infinie** !\n",
    "\n",
    "---\n",
    "<div class=\"alert alert-success\">\n",
    "<img style=\"float :left;\" src=\"images/laptop50b.png\">\n",
    "    \n",
    ">*__À vous de jouer__*  \n",
    "*Exécutez et analysez le code suivant*\n",
    " </div>\n"
   ]
  },
  {
   "cell_type": "code",
   "execution_count": null,
   "metadata": {},
   "outputs": [],
   "source": [
    "nbTomate = 1\n",
    "while nbTomate > 0:\n",
    "    print(nbTomate)"
   ]
  },
  {
   "attachments": {
    "stopCell.png": {
     "image/png": "[encoded data removed]"
    }
   },
   "cell_type": "markdown",
   "metadata": {},
   "source": [
    "L'ordinateur ne cesse d'afficher le contenu de la variable `nbTomate` et ne s'arrête pas car la condition `nbTomate>0` est toujours vraie (`True`) puisque nbTomate contient `1`.\n",
    "\n",
    "- Pour arrêter l'exécution du code d'une cellule, cliquez sur le bouton carré.\n",
    "![stopCell.png](attachment:stopCell.png)\n",
    "---\n",
    "\n",
    "Générer une boucle infinie, de manière non intentionnelle, est une erreur fréquente, donc **attention à l'écriture de la condition !**\n",
    "\n",
    "Cependant, il arrive de vouloir créer une boucle infinie *volontairement*. En général, on utilise la valeur booléenne `True` comme condition :"
   ]
  },
  {
   "cell_type": "code",
   "execution_count": null,
   "metadata": {},
   "outputs": [],
   "source": [
    "nbIteration = 0\n",
    "while True:\n",
    "    nbIteration = nbIteration + 1\n",
    "    print(\"Itération n°\",nbIteration)"
   ]
  },
  {
   "cell_type": "markdown",
   "metadata": {},
   "source": [
    "## L'instruction `break`\n",
    "Il existe l'instruction **`break`** pour sortir de n'importe qu'elle boucle (et donc d'une boucle infinie). En effet, l'instruction **`break` provoque la fin de la boucle en cours et passe à la suite du programme** comme le montre l'exemple ci-dessous."
   ]
  },
  {
   "cell_type": "code",
   "execution_count": null,
   "metadata": {},
   "outputs": [],
   "source": [
    "nbIteration = 0\n",
    "while True:                              # boucle infinie\n",
    "    nbIteration = nbIteration + 1\n",
    "    if nbIteration == 4:                 # Condition pour exécuter le break\n",
    "        break\n",
    "    print(\"Itération n°\",nbIteration)\n",
    "print(\"Le programme est terminé.\")"
   ]
  },
  {
   "cell_type": "markdown",
   "metadata": {},
   "source": [
    "Dans le programme ci-dessus, l’exécution de la boucle est stoppée lorsque la valeur de `nbIteration` atteint 4.\n",
    "\n",
    "---\n",
    "\n",
    "<div class=\"alert alert-success\">\n",
    "<img style=\"float :left;\" src=\"images/laptop50b.png\">\n",
    "    \n",
    ">*__À vous de jouer__*  \n",
    "*Modifiez le code ci-dessous pour stopper la boucle à partir de l'iteration n°3*.\n",
    " </div>\n"
   ]
  },
  {
   "cell_type": "code",
   "execution_count": null,
   "metadata": {},
   "outputs": [],
   "source": [
    "nbIteration = 1\n",
    "while True:\n",
    "    nbIteration = nbIteration + 1\n",
    "    if nbIteration == ??:                 # ligne à modifier\n",
    "        break\n",
    "    print(\"Itération n°\",nbIteration)\n",
    "print(\"Le programme est terminé.\")"
   ]
  },
  {
   "cell_type": "markdown",
   "metadata": {},
   "source": [
    "---"
   ]
  },
  {
   "cell_type": "markdown",
   "metadata": {},
   "source": [
    "## L'instruction `continue`\n",
    "L'instruction **`continue`** permet aussi de modifier l'exécution d'une boucle. En effet, l'instruction `continue` termine l'itération en cours de la boucle et passe au tour suivant comme le montre l'exemple ci-dessous :\n"
   ]
  },
  {
   "cell_type": "code",
   "execution_count": null,
   "metadata": {},
   "outputs": [],
   "source": [
    "nbIteration = 0\n",
    "while nbIteration < 4:\n",
    "    nbIteration = nbIteration + 1\n",
    "    if nbIteration == 2:\n",
    "        continue\n",
    "    print(\"Itération n°\",nbIteration)\n",
    "print(\"Le programme est terminé.\")"
   ]
  },
  {
   "cell_type": "markdown",
   "metadata": {},
   "source": [
    "Dans le programme ci-dessus, lorsque `nbIteration` vaut 2, la boucle passe directement au tour suivant, sans finir d’exécuter le reste des instructions, *\\\"Itération n° 2\\\"* n’est donc pas affichée.\n",
    "\n",
    "---\n",
    "<div class=\"alert alert-success\">\n",
    "<img style=\"float :left;\" src=\"images/laptop50b.png\">\n",
    "    \n",
    ">*__À vous de jouer__*  \n",
    "*Modifiez le code ci-dessous pour ne plus afficher \\\"Iteration n°3\\\"*.\n",
    " </div>\n"
   ]
  },
  {
   "cell_type": "code",
   "execution_count": null,
   "metadata": {},
   "outputs": [],
   "source": [
    "nbIteration = 0\n",
    "while nbIteration < 4:\n",
    "    nbIteration = nbIteration + 1\n",
    "    if nbIteration == ??:                  # ligne à modifier                  \n",
    "        continue\n",
    "    print(\"Itération n°\",nbIteration)\n",
    "print(\"Le programme est terminé.\")"
   ]
  },
  {
   "cell_type": "markdown",
   "metadata": {},
   "source": [
    "---"
   ]
  },
  {
   "cell_type": "markdown",
   "metadata": {},
   "source": [
    "### Remarque sur l'affichage à l'aide de l'instruction `print()`\n",
    "Par défaut, l'instruction `print()` insère un «retour charriot» (un retour à la ligne) à la fin de ce qu'elle affiche. La plupart du temps, c'est le comportement souhaité. Toutefois, si on veut que les caractères affichés par deux instructions  `print()` consécutives soient placés à la suite les uns des autres, on peut changer le caractère de fin en précisant `end=\"\"` ou `end=\" \"` ou toute autre valeur. Par défaut on a `end=\"\\n\"` car `\"\\n\"` est le caractère \"retour chariot\".  \n",
    "Trois exemples à exécuter pour comprendre :"
   ]
  },
  {
   "cell_type": "code",
   "execution_count": null,
   "metadata": {},
   "outputs": [],
   "source": [
    "print(\"Bonjour\")\n",
    "print(\"chers élèves\")"
   ]
  },
  {
   "cell_type": "code",
   "execution_count": null,
   "metadata": {},
   "outputs": [],
   "source": [
    "print(\"Bonjour\", end=\"\")\n",
    "print(\"chers élèves\")       "
   ]
  },
  {
   "cell_type": "code",
   "execution_count": null,
   "metadata": {},
   "outputs": [],
   "source": [
    "print(\"Bonjour\", end=\" \")\n",
    "print(\"chers élèves\")"
   ]
  },
  {
   "cell_type": "markdown",
   "metadata": {},
   "source": [
    "<div class = \"alert alert-info\">  \n",
    "<img style=\"float :left;\" src=\"images/savoir.png\" width = 5% height=auto>\n",
    "\n",
    "## Les 5 points importants à connaitre\n",
    "\n",
    "1. Une boucle `while` permet de répéter des actions **tant qu'une** condition est vérifiée\n",
    "2. Elle est très pratique lorsque l'on ne sait pas précisément le nombre d'itérations à effectuer.\n",
    "3. Pour sortir de la boucle, on utilise l'instruction `break`.\n",
    "4. Pour passer à l'itération suivante, on utilise l'instruction `continue`.\n",
    "5. Une boucle infinie se réalise simplement avec la ligne : \n",
    "```python\n",
    "while True:```\n"
   ]
  },
  {
   "cell_type": "code",
   "execution_count": null,
   "metadata": {},
   "outputs": [],
   "source": []
  }
 ],
 "metadata": {
  "kernelspec": {
   "display_name": "Python 3",
   "language": "python",
   "name": "python3"
  },
  "language_info": {
   "codemirror_mode": {
    "name": "ipython",
    "version": 3
   },
   "file_extension": ".py",
   "mimetype": "text/x-python",
   "name": "python",
   "nbconvert_exporter": "python",
   "pygments_lexer": "ipython3",
   "version": "3.7.0"
  }
 },
 "nbformat": 4,
 "nbformat_minor": 2
}
